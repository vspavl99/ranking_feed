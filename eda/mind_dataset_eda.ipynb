{
 "cells": [
  {
   "cell_type": "code",
   "execution_count": 1,
   "metadata": {
    "collapsed": true
   },
   "outputs": [],
   "source": [
    "import os\n",
    "\n",
    "import pandas as pd\n",
    "\n",
    "\n",
    "os.chdir(\"..\")"
   ]
  },
  {
   "cell_type": "code",
   "execution_count": 6,
   "outputs": [],
   "source": [
    "mind_df = pd.read_csv('data/processed/MIND_dataset/MINDlarge_train/behaviors.tsv', sep='\\t', names=['uid', 'time', 'click_hist', 'imp_log'])"
   ],
   "metadata": {
    "collapsed": false
   }
  },
  {
   "cell_type": "code",
   "execution_count": 7,
   "outputs": [
    {
     "data": {
      "text/plain": "       uid                    time  \\\n1   U87243  11/10/2019 11:30:54 AM   \n2  U598644   11/12/2019 1:45:29 PM   \n3  U532401  11/13/2019 11:23:03 AM   \n4  U593596  11/12/2019 12:24:09 PM   \n5  U239687   11/14/2019 8:03:01 PM   \n\n                                          click_hist  \\\n1  N8668 N39081 N65259 N79529 N73408 N43615 N2937...   \n2  N56056 N8726 N70353 N67998 N83823 N111108 N107...   \n3  N128643 N87446 N122948 N9375 N82348 N129412 N5...   \n4  N31043 N39592 N4104 N8223 N114581 N92747 N1207...   \n5  N65250 N122359 N71723 N53796 N41663 N41484 N11...   \n\n                                             imp_log  \n1  N78206-0 N26368-0 N7578-0 N58592-0 N19858-0 N5...  \n2  N47996-0 N82719-0 N117066-0 N8491-0 N123784-0 ...  \n3              N103852-0 N53474-0 N127836-0 N47925-1  \n4  N38902-0 N76434-0 N71593-0 N100073-0 N108736-0...  \n5  N76209-0 N48841-0 N67937-0 N62235-0 N6307-0 N3...  ",
      "text/html": "<div>\n<style scoped>\n    .dataframe tbody tr th:only-of-type {\n        vertical-align: middle;\n    }\n\n    .dataframe tbody tr th {\n        vertical-align: top;\n    }\n\n    .dataframe thead th {\n        text-align: right;\n    }\n</style>\n<table border=\"1\" class=\"dataframe\">\n  <thead>\n    <tr style=\"text-align: right;\">\n      <th></th>\n      <th>uid</th>\n      <th>time</th>\n      <th>click_hist</th>\n      <th>imp_log</th>\n    </tr>\n  </thead>\n  <tbody>\n    <tr>\n      <th>1</th>\n      <td>U87243</td>\n      <td>11/10/2019 11:30:54 AM</td>\n      <td>N8668 N39081 N65259 N79529 N73408 N43615 N2937...</td>\n      <td>N78206-0 N26368-0 N7578-0 N58592-0 N19858-0 N5...</td>\n    </tr>\n    <tr>\n      <th>2</th>\n      <td>U598644</td>\n      <td>11/12/2019 1:45:29 PM</td>\n      <td>N56056 N8726 N70353 N67998 N83823 N111108 N107...</td>\n      <td>N47996-0 N82719-0 N117066-0 N8491-0 N123784-0 ...</td>\n    </tr>\n    <tr>\n      <th>3</th>\n      <td>U532401</td>\n      <td>11/13/2019 11:23:03 AM</td>\n      <td>N128643 N87446 N122948 N9375 N82348 N129412 N5...</td>\n      <td>N103852-0 N53474-0 N127836-0 N47925-1</td>\n    </tr>\n    <tr>\n      <th>4</th>\n      <td>U593596</td>\n      <td>11/12/2019 12:24:09 PM</td>\n      <td>N31043 N39592 N4104 N8223 N114581 N92747 N1207...</td>\n      <td>N38902-0 N76434-0 N71593-0 N100073-0 N108736-0...</td>\n    </tr>\n    <tr>\n      <th>5</th>\n      <td>U239687</td>\n      <td>11/14/2019 8:03:01 PM</td>\n      <td>N65250 N122359 N71723 N53796 N41663 N41484 N11...</td>\n      <td>N76209-0 N48841-0 N67937-0 N62235-0 N6307-0 N3...</td>\n    </tr>\n  </tbody>\n</table>\n</div>"
     },
     "execution_count": 7,
     "metadata": {},
     "output_type": "execute_result"
    }
   ],
   "source": [
    "mind_df.head()"
   ],
   "metadata": {
    "collapsed": false
   }
  },
  {
   "cell_type": "code",
   "execution_count": null,
   "outputs": [],
   "source": [],
   "metadata": {
    "collapsed": false
   }
  }
 ],
 "metadata": {
  "kernelspec": {
   "display_name": "Python 3",
   "language": "python",
   "name": "python3"
  },
  "language_info": {
   "codemirror_mode": {
    "name": "ipython",
    "version": 2
   },
   "file_extension": ".py",
   "mimetype": "text/x-python",
   "name": "python",
   "nbconvert_exporter": "python",
   "pygments_lexer": "ipython2",
   "version": "2.7.6"
  }
 },
 "nbformat": 4,
 "nbformat_minor": 0
}
