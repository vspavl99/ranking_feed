{
 "cells": [
  {
   "cell_type": "code",
   "execution_count": 2,
   "outputs": [],
   "source": [
    "import os\n",
    "\n",
    "import numpy as np\n",
    "import pandas as pd\n",
    "import matplotlib.pyplot as plt\n",
    "\n",
    "os.chdir(\"..\")"
   ],
   "metadata": {
    "collapsed": false,
    "ExecuteTime": {
     "start_time": "2023-04-06T23:10:02.086161Z",
     "end_time": "2023-04-06T23:10:02.109162Z"
    }
   }
  },
  {
   "cell_type": "code",
   "execution_count": 9,
   "outputs": [],
   "source": [
    "mind_df_train = pd.read_csv('data/processed/MIND_dataset/mind_small/mind_small.train.inter', sep='\\t', skiprows=[0], names=['user_id', 'item_id', 'label', 'timestamp'])\n",
    "\n",
    "mind_df_val = pd.read_csv('data/processed/MIND_dataset/mind_small/mind_small.dev.inter', sep='\\t', skiprows=[0], names=['user_id', 'item_id', 'label', 'timestamp'])\n"
   ],
   "metadata": {
    "collapsed": false,
    "ExecuteTime": {
     "start_time": "2023-04-06T23:10:51.376384Z",
     "end_time": "2023-04-06T23:10:56.225917Z"
    }
   }
  },
  {
   "cell_type": "code",
   "execution_count": 10,
   "outputs": [
    {
     "name": "stdout",
     "output_type": "stream",
     "text": [
      "<class 'pandas.core.frame.DataFrame'>\n",
      "RangeIndex: 5843444 entries, 0 to 5843443\n",
      "Data columns (total 4 columns):\n",
      " #   Column     Dtype\n",
      "---  ------     -----\n",
      " 0   user_id    int64\n",
      " 1   item_id    int64\n",
      " 2   label      int64\n",
      " 3   timestamp  int64\n",
      "dtypes: int64(4)\n",
      "memory usage: 178.3 MB\n"
     ]
    }
   ],
   "source": [
    "mind_df_train.info()"
   ],
   "metadata": {
    "collapsed": false,
    "ExecuteTime": {
     "start_time": "2023-04-06T23:10:56.250919Z",
     "end_time": "2023-04-06T23:10:56.285922Z"
    }
   }
  },
  {
   "cell_type": "code",
   "execution_count": 11,
   "outputs": [
    {
     "data": {
      "text/plain": "         user_id  item_id  label   timestamp\n0          80234    28682      0  1573853870\n1          80234    48740      0  1573853870\n2          80234    31958      1  1573853870\n3          80234    34130      0  1573853870\n4          80234     6916      0  1573853870\n...          ...      ...    ...         ...\n2740993    68182    48740      0  1573808074\n2740994    68182    55237      0  1573808074\n2740995    68182    31958      0  1573808074\n2740996    68182    29091      0  1573808074\n2740997    68182    24802      0  1573808074\n\n[2740998 rows x 4 columns]",
      "text/html": "<div>\n<style scoped>\n    .dataframe tbody tr th:only-of-type {\n        vertical-align: middle;\n    }\n\n    .dataframe tbody tr th {\n        vertical-align: top;\n    }\n\n    .dataframe thead th {\n        text-align: right;\n    }\n</style>\n<table border=\"1\" class=\"dataframe\">\n  <thead>\n    <tr style=\"text-align: right;\">\n      <th></th>\n      <th>user_id</th>\n      <th>item_id</th>\n      <th>label</th>\n      <th>timestamp</th>\n    </tr>\n  </thead>\n  <tbody>\n    <tr>\n      <th>0</th>\n      <td>80234</td>\n      <td>28682</td>\n      <td>0</td>\n      <td>1573853870</td>\n    </tr>\n    <tr>\n      <th>1</th>\n      <td>80234</td>\n      <td>48740</td>\n      <td>0</td>\n      <td>1573853870</td>\n    </tr>\n    <tr>\n      <th>2</th>\n      <td>80234</td>\n      <td>31958</td>\n      <td>1</td>\n      <td>1573853870</td>\n    </tr>\n    <tr>\n      <th>3</th>\n      <td>80234</td>\n      <td>34130</td>\n      <td>0</td>\n      <td>1573853870</td>\n    </tr>\n    <tr>\n      <th>4</th>\n      <td>80234</td>\n      <td>6916</td>\n      <td>0</td>\n      <td>1573853870</td>\n    </tr>\n    <tr>\n      <th>...</th>\n      <td>...</td>\n      <td>...</td>\n      <td>...</td>\n      <td>...</td>\n    </tr>\n    <tr>\n      <th>2740993</th>\n      <td>68182</td>\n      <td>48740</td>\n      <td>0</td>\n      <td>1573808074</td>\n    </tr>\n    <tr>\n      <th>2740994</th>\n      <td>68182</td>\n      <td>55237</td>\n      <td>0</td>\n      <td>1573808074</td>\n    </tr>\n    <tr>\n      <th>2740995</th>\n      <td>68182</td>\n      <td>31958</td>\n      <td>0</td>\n      <td>1573808074</td>\n    </tr>\n    <tr>\n      <th>2740996</th>\n      <td>68182</td>\n      <td>29091</td>\n      <td>0</td>\n      <td>1573808074</td>\n    </tr>\n    <tr>\n      <th>2740997</th>\n      <td>68182</td>\n      <td>24802</td>\n      <td>0</td>\n      <td>1573808074</td>\n    </tr>\n  </tbody>\n</table>\n<p>2740998 rows × 4 columns</p>\n</div>"
     },
     "execution_count": 11,
     "metadata": {},
     "output_type": "execute_result"
    }
   ],
   "source": [
    "mind_df_val"
   ],
   "metadata": {
    "collapsed": false,
    "ExecuteTime": {
     "start_time": "2023-04-06T23:10:56.270933Z",
     "end_time": "2023-04-06T23:10:56.405918Z"
    }
   }
  },
  {
   "cell_type": "code",
   "execution_count": 12,
   "outputs": [
    {
     "data": {
      "text/plain": "         user_id  item_id  label   timestamp\n0          13740    55689      1  1573452358\n1          13740    35729      0  1573452358\n2          91836    20678      0  1573571490\n3          91836    39317      0  1573571490\n4          91836    58114      0  1573571490\n...          ...      ...    ...         ...\n5843439    44625    39317      0  1573646222\n5843440    64800    61233      0  1573734349\n5843441    64800    33828      1  1573734349\n5843442    64800    19661      0  1573734349\n5843443    64800    41934      0  1573734349\n\n[5843444 rows x 4 columns]",
      "text/html": "<div>\n<style scoped>\n    .dataframe tbody tr th:only-of-type {\n        vertical-align: middle;\n    }\n\n    .dataframe tbody tr th {\n        vertical-align: top;\n    }\n\n    .dataframe thead th {\n        text-align: right;\n    }\n</style>\n<table border=\"1\" class=\"dataframe\">\n  <thead>\n    <tr style=\"text-align: right;\">\n      <th></th>\n      <th>user_id</th>\n      <th>item_id</th>\n      <th>label</th>\n      <th>timestamp</th>\n    </tr>\n  </thead>\n  <tbody>\n    <tr>\n      <th>0</th>\n      <td>13740</td>\n      <td>55689</td>\n      <td>1</td>\n      <td>1573452358</td>\n    </tr>\n    <tr>\n      <th>1</th>\n      <td>13740</td>\n      <td>35729</td>\n      <td>0</td>\n      <td>1573452358</td>\n    </tr>\n    <tr>\n      <th>2</th>\n      <td>91836</td>\n      <td>20678</td>\n      <td>0</td>\n      <td>1573571490</td>\n    </tr>\n    <tr>\n      <th>3</th>\n      <td>91836</td>\n      <td>39317</td>\n      <td>0</td>\n      <td>1573571490</td>\n    </tr>\n    <tr>\n      <th>4</th>\n      <td>91836</td>\n      <td>58114</td>\n      <td>0</td>\n      <td>1573571490</td>\n    </tr>\n    <tr>\n      <th>...</th>\n      <td>...</td>\n      <td>...</td>\n      <td>...</td>\n      <td>...</td>\n    </tr>\n    <tr>\n      <th>5843439</th>\n      <td>44625</td>\n      <td>39317</td>\n      <td>0</td>\n      <td>1573646222</td>\n    </tr>\n    <tr>\n      <th>5843440</th>\n      <td>64800</td>\n      <td>61233</td>\n      <td>0</td>\n      <td>1573734349</td>\n    </tr>\n    <tr>\n      <th>5843441</th>\n      <td>64800</td>\n      <td>33828</td>\n      <td>1</td>\n      <td>1573734349</td>\n    </tr>\n    <tr>\n      <th>5843442</th>\n      <td>64800</td>\n      <td>19661</td>\n      <td>0</td>\n      <td>1573734349</td>\n    </tr>\n    <tr>\n      <th>5843443</th>\n      <td>64800</td>\n      <td>41934</td>\n      <td>0</td>\n      <td>1573734349</td>\n    </tr>\n  </tbody>\n</table>\n<p>5843444 rows × 4 columns</p>\n</div>"
     },
     "execution_count": 12,
     "metadata": {},
     "output_type": "execute_result"
    }
   ],
   "source": [
    "mind_df_train"
   ],
   "metadata": {
    "collapsed": false,
    "ExecuteTime": {
     "start_time": "2023-04-06T23:10:56.357925Z",
     "end_time": "2023-04-06T23:10:56.406918Z"
    }
   }
  },
  {
   "cell_type": "code",
   "execution_count": 20,
   "outputs": [
    {
     "data": {
      "text/plain": "(50000, 5369)"
     },
     "execution_count": 20,
     "metadata": {},
     "output_type": "execute_result"
    }
   ],
   "source": [
    "mind_df_val['user_id'].nunique(), mind_df_val['item_id'].nunique()"
   ],
   "metadata": {
    "collapsed": false,
    "ExecuteTime": {
     "start_time": "2023-04-06T23:15:44.630764Z",
     "end_time": "2023-04-06T23:15:44.749388Z"
    }
   }
  },
  {
   "cell_type": "code",
   "execution_count": 23,
   "outputs": [
    {
     "data": {
      "text/plain": "5943"
     },
     "execution_count": 23,
     "metadata": {},
     "output_type": "execute_result"
    }
   ],
   "source": [
    "pd.Series(mind_df_val['user_id'].unique()).isin(mind_df_train['user_id']).sum()"
   ],
   "metadata": {
    "collapsed": false,
    "ExecuteTime": {
     "start_time": "2023-04-06T23:16:45.410248Z",
     "end_time": "2023-04-06T23:16:45.566243Z"
    }
   }
  },
  {
   "cell_type": "code",
   "execution_count": 24,
   "outputs": [
    {
     "data": {
      "text/plain": "2886"
     },
     "execution_count": 24,
     "metadata": {},
     "output_type": "execute_result"
    }
   ],
   "source": [
    "pd.Series(mind_df_val['item_id'].unique()).isin(mind_df_train['item_id']).sum()"
   ],
   "metadata": {
    "collapsed": false,
    "ExecuteTime": {
     "start_time": "2023-04-06T23:16:53.121772Z",
     "end_time": "2023-04-06T23:16:53.300395Z"
    }
   }
  },
  {
   "cell_type": "code",
   "execution_count": null,
   "outputs": [],
   "source": [],
   "metadata": {
    "collapsed": false
   }
  }
 ],
 "metadata": {
  "kernelspec": {
   "display_name": "Python 3",
   "language": "python",
   "name": "python3"
  },
  "language_info": {
   "codemirror_mode": {
    "name": "ipython",
    "version": 2
   },
   "file_extension": ".py",
   "mimetype": "text/x-python",
   "name": "python",
   "nbconvert_exporter": "python",
   "pygments_lexer": "ipython2",
   "version": "2.7.6"
  }
 },
 "nbformat": 4,
 "nbformat_minor": 0
}
