{
 "cells": [
  {
   "cell_type": "code",
   "execution_count": 1,
   "metadata": {
    "collapsed": true,
    "ExecuteTime": {
     "start_time": "2023-04-30T20:11:10.661053Z",
     "end_time": "2023-04-30T20:11:11.228776Z"
    }
   },
   "outputs": [],
   "source": [
    "import os\n",
    "\n",
    "import numpy as np\n",
    "import pandas as pd\n",
    "import matplotlib.pyplot as plt\n",
    "\n",
    "os.chdir(\"..\")"
   ]
  },
  {
   "cell_type": "code",
   "execution_count": 29,
   "outputs": [],
   "source": [
    "from src.data.recbole.embeding_parser import read_vec_file\n",
    "\n",
    "embeddings = read_vec_file('data/raw/MIND_dataset/MINDsmall_dev/entity_embedding.vec')"
   ],
   "metadata": {
    "collapsed": false,
    "ExecuteTime": {
     "start_time": "2023-04-20T22:03:58.345201Z",
     "end_time": "2023-04-20T22:03:58.817156Z"
    }
   }
  },
  {
   "cell_type": "code",
   "execution_count": 26,
   "outputs": [
    {
     "ename": "ImportError",
     "evalue": "cannot import name 'match_news_and_embedding' from 'src.data.embeding_parser' (C:\\Users\\vpavl\\PycharmProjects\\ranking-feed\\src\\data\\embeding_parser.py)",
     "output_type": "error",
     "traceback": [
      "\u001B[1;31m---------------------------------------------------------------------------\u001B[0m",
      "\u001B[1;31mImportError\u001B[0m                               Traceback (most recent call last)",
      "\u001B[1;32m<ipython-input-26-3801ac38b7a8>\u001B[0m in \u001B[0;36m<module>\u001B[1;34m\u001B[0m\n\u001B[1;32m----> 1\u001B[1;33m \u001B[1;32mfrom\u001B[0m \u001B[0msrc\u001B[0m\u001B[1;33m.\u001B[0m\u001B[0mdata\u001B[0m\u001B[1;33m.\u001B[0m\u001B[0membeding_parser\u001B[0m \u001B[1;32mimport\u001B[0m \u001B[0mmatch_news_and_embedding\u001B[0m\u001B[1;33m\u001B[0m\u001B[1;33m\u001B[0m\u001B[0m\n\u001B[0m\u001B[0;32m      2\u001B[0m \u001B[1;33m\u001B[0m\u001B[0m\n\u001B[0;32m      3\u001B[0m news_info = pd.read_csv(\n\u001B[0;32m      4\u001B[0m     \u001B[0mfilepath_or_buffer\u001B[0m\u001B[1;33m=\u001B[0m\u001B[1;34m'data/raw/MIND_dataset/MINDsmall_dev/news.tsv'\u001B[0m\u001B[1;33m,\u001B[0m\u001B[1;33m\u001B[0m\u001B[1;33m\u001B[0m\u001B[0m\n\u001B[0;32m      5\u001B[0m     names=['news_id', 'category', 'sub_category', 'title',\n",
      "\u001B[1;31mImportError\u001B[0m: cannot import name 'match_news_and_embedding' from 'src.data.embeding_parser' (C:\\Users\\vpavl\\PycharmProjects\\ranking-feed\\src\\data\\embeding_parser.py)"
     ]
    }
   ],
   "source": [
    "from src.data.recbole.embeding_parser import match_news_and_embedding\n",
    "\n",
    "news_info = pd.read_csv(\n",
    "    filepath_or_buffer='data/raw/MIND_dataset/MINDsmall_dev/news.tsv',\n",
    "    names=['news_id', 'category', 'sub_category', 'title',\n",
    "           'abstract', 'url', 'title_entities', 'abstract_entities'],\n",
    "    sep=r'\\t',\n",
    "    engine='python'\n",
    ")\n",
    "\n",
    "# entity_name and agg_func can be specified in match_news_and_entities\n",
    "news_id_x_entities_id = match_news_and_embedding(news_info, entity_name='title_entities')\n",
    "news_id_x_entities_id.to_csv('data/processed/MIND_dataset/mind_small/news_x_entities.csv')"
   ],
   "metadata": {
    "collapsed": false,
    "ExecuteTime": {
     "start_time": "2023-04-20T21:38:24.453955Z",
     "end_time": "2023-04-20T21:38:28.503630Z"
    }
   }
  },
  {
   "cell_type": "code",
   "execution_count": 27,
   "outputs": [],
   "source": [
    "a = np.asarray(pd.DataFrame(embeddings, columns=['entity_id', 'embedding']).iloc[0]['embedding'], dtype=float)"
   ],
   "metadata": {
    "collapsed": false,
    "ExecuteTime": {
     "start_time": "2023-04-20T22:03:50.574521Z",
     "end_time": "2023-04-20T22:03:50.632981Z"
    }
   }
  },
  {
   "cell_type": "code",
   "execution_count": 22,
   "outputs": [
    {
     "data": {
      "text/plain": "array([1.017808, 0.926744, 1.102521, 0.940074, 0.939335, 1.027027,\n       0.908272, 0.996943, 0.829202, 1.111819, 1.006821, 0.950127,\n       0.949468, 0.996873, 0.925528, 0.884109, 0.932907, 0.904728,\n       1.019178, 0.916275, 0.93911 , 1.017744, 1.049417, 0.973986,\n       0.951451, 1.017528, 1.044163, 1.022111, 0.918481, 1.046278,\n       0.816061, 0.936857, 0.985482, 0.919356, 0.900006, 1.085905,\n       0.916997, 0.907156, 0.783519, 1.125441, 1.179819, 1.036735,\n       0.914625, 1.021276, 0.845029, 1.039009, 1.016059, 1.067725,\n       0.851787, 1.158773, 0.971473, 1.12579 , 1.006361, 1.067541,\n       1.077552, 1.060792, 0.955489, 0.994138, 0.93192 , 0.936796,\n       0.905873, 1.115441, 0.983528, 1.106616, 1.047839, 0.848195,\n       0.888917, 0.85767 , 0.87932 , 0.949607, 0.926213, 1.017424,\n       0.91838 , 1.062599, 0.977898, 0.897312, 0.871851, 0.924105,\n       1.095134, 1.000984, 1.010143, 0.931448, 0.973427, 1.019735,\n       0.999019, 0.873365, 1.0083  , 1.170557, 1.00225 , 0.842825,\n       0.922038, 1.013433, 1.045894, 0.928747, 1.086445, 0.879534,\n       1.059235, 0.928135, 1.058854, 1.024765])"
     },
     "execution_count": 22,
     "metadata": {},
     "output_type": "execute_result"
    }
   ],
   "source": [
    "a.flatten() + 1"
   ],
   "metadata": {
    "collapsed": false,
    "ExecuteTime": {
     "start_time": "2023-04-20T22:02:36.169540Z",
     "end_time": "2023-04-20T22:02:36.189993Z"
    }
   }
  },
  {
   "cell_type": "code",
   "execution_count": 30,
   "outputs": [
    {
     "data": {
      "text/plain": "('Q34433',\n ['0.017808',\n  '-0.073256',\n  '0.102521',\n  '-0.059926',\n  '-0.060665',\n  '0.027027',\n  '-0.091728',\n  '-0.003057',\n  '-0.170798',\n  '0.111819',\n  '0.006821',\n  '-0.049873',\n  '-0.050532',\n  '-0.003127',\n  '-0.074472',\n  '-0.115891',\n  '-0.067093',\n  '-0.095272',\n  '0.019178',\n  '-0.083725',\n  '-0.060890',\n  '0.017744',\n  '0.049417',\n  '-0.026014',\n  '-0.048549',\n  '0.017528',\n  '0.044163',\n  '0.022111',\n  '-0.081519',\n  '0.046278',\n  '-0.183939',\n  '-0.063143',\n  '-0.014518',\n  '-0.080644',\n  '-0.099994',\n  '0.085905',\n  '-0.083003',\n  '-0.092844',\n  '-0.216481',\n  '0.125441',\n  '0.179819',\n  '0.036735',\n  '-0.085375',\n  '0.021276',\n  '-0.154971',\n  '0.039009',\n  '0.016059',\n  '0.067725',\n  '-0.148213',\n  '0.158773',\n  '-0.028527',\n  '0.125790',\n  '0.006361',\n  '0.067541',\n  '0.077552',\n  '0.060792',\n  '-0.044511',\n  '-0.005862',\n  '-0.068080',\n  '-0.063204',\n  '-0.094127',\n  '0.115441',\n  '-0.016472',\n  '0.106616',\n  '0.047839',\n  '-0.151805',\n  '-0.111083',\n  '-0.142330',\n  '-0.120680',\n  '-0.050393',\n  '-0.073787',\n  '0.017424',\n  '-0.081620',\n  '0.062599',\n  '-0.022102',\n  '-0.102688',\n  '-0.128149',\n  '-0.075895',\n  '0.095134',\n  '0.000984',\n  '0.010143',\n  '-0.068552',\n  '-0.026573',\n  '0.019735',\n  '-0.000981',\n  '-0.126635',\n  '0.008300',\n  '0.170557',\n  '0.002250',\n  '-0.157175',\n  '-0.077962',\n  '0.013433',\n  '0.045894',\n  '-0.071253',\n  '0.086445',\n  '-0.120466',\n  '0.059235',\n  '-0.071865',\n  '0.058854',\n  '0.024765'])"
     },
     "execution_count": 30,
     "metadata": {},
     "output_type": "execute_result"
    }
   ],
   "source": [
    "embeddings[0]"
   ],
   "metadata": {
    "collapsed": false,
    "ExecuteTime": {
     "start_time": "2023-04-20T22:04:13.396983Z",
     "end_time": "2023-04-20T22:04:13.447300Z"
    }
   }
  },
  {
   "cell_type": "markdown",
   "source": [
    "# Explore number of missed item embeddings"
   ],
   "metadata": {
    "collapsed": false
   }
  },
  {
   "cell_type": "code",
   "execution_count": 8,
   "outputs": [],
   "source": [
    "mind_small_inter_train = pd.read_csv(\n",
    "    'data/processed/MIND_dataset/mind_small/mind_small.train.inter',\n",
    "    sep='\\t', skiprows=[0], names=['user_id', 'item_id', 'label', 'timestamp']\n",
    ")\n",
    "\n",
    "mind_small_inter_dev = pd.read_csv(\n",
    "    'data/processed/MIND_dataset/mind_small/mind_small.dev.inter',\n",
    "    sep='\\t', skiprows=[0], names=['user_id', 'item_id', 'label', 'timestamp']\n",
    ")"
   ],
   "metadata": {
    "collapsed": false,
    "ExecuteTime": {
     "start_time": "2023-04-30T20:16:21.876857Z",
     "end_time": "2023-04-30T20:16:24.054780Z"
    }
   }
  },
  {
   "cell_type": "code",
   "execution_count": 10,
   "outputs": [
    {
     "name": "stdout",
     "output_type": "stream",
     "text": [
      "Train inter\n",
      "\tNumber of items  20288\n",
      "dev inter\n",
      "\tNumber of items  5369\n",
      "Concatenated inter\n",
      "\tNumber of items  22771\n"
     ]
    },
    {
     "data": {
      "text/plain": "22771"
     },
     "execution_count": 10,
     "metadata": {},
     "output_type": "execute_result"
    }
   ],
   "source": [
    "def count_items(dataframe):\n",
    "    number_of_items = len(dataframe['item_id'].unique())\n",
    "    print('\\tNumber of items ', number_of_items)\n",
    "    return number_of_items\n",
    "\n",
    "print('Train inter')\n",
    "count_items(mind_small_inter_train)\n",
    "print('dev inter')\n",
    "count_items(mind_small_inter_dev)\n",
    "print('Concatenated inter')\n",
    "count_items(pd.concat((mind_small_inter_dev, mind_small_inter_train)))"
   ],
   "metadata": {
    "collapsed": false,
    "ExecuteTime": {
     "start_time": "2023-04-30T20:17:44.594073Z",
     "end_time": "2023-04-30T20:17:44.884162Z"
    }
   }
  },
  {
   "cell_type": "code",
   "execution_count": 11,
   "outputs": [
    {
     "name": "stdout",
     "output_type": "stream",
     "text": [
      "Item dataset\n",
      "\tNumber of items  65238\n"
     ]
    },
    {
     "data": {
      "text/plain": "65238"
     },
     "execution_count": 11,
     "metadata": {},
     "output_type": "execute_result"
    }
   ],
   "source": [
    "mind_small_item = pd.read_csv(\n",
    "    'data/processed/MIND_dataset/mind_small/mind_small.item',\n",
    "    sep='\\t', skiprows=[0], names=['item_id', 'embedding']\n",
    ")\n",
    "\n",
    "print('Item dataset')\n",
    "count_items(mind_small_item)"
   ],
   "metadata": {
    "collapsed": false,
    "ExecuteTime": {
     "start_time": "2023-04-30T20:18:56.986885Z",
     "end_time": "2023-04-30T20:18:57.427755Z"
    }
   }
  },
  {
   "cell_type": "code",
   "execution_count": null,
   "outputs": [],
   "source": [],
   "metadata": {
    "collapsed": false
   }
  }
 ],
 "metadata": {
  "kernelspec": {
   "display_name": "Python 3",
   "language": "python",
   "name": "python3"
  },
  "language_info": {
   "codemirror_mode": {
    "name": "ipython",
    "version": 2
   },
   "file_extension": ".py",
   "mimetype": "text/x-python",
   "name": "python",
   "nbconvert_exporter": "python",
   "pygments_lexer": "ipython2",
   "version": "2.7.6"
  }
 },
 "nbformat": 4,
 "nbformat_minor": 0
}
